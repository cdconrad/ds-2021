{
 "cells": [
  {
   "cell_type": "markdown",
   "metadata": {},
   "source": [
    "# Lab 3 - Basic data cleaning and analysis of Halifax's housing data\n",
    "*© 2021 Colin Conrad*\n",
    "\n",
    "Welcome to Week 3 of INFO 6270! Last week we explored two key elements of the Python programming lanaguage: loops and functions. These skills are the essential building blocks of virtually all work in data science. This week we will explore two basic data structures: lists and dictionaries. This week's case is built on data from rental data in Halifax from the Canada Mortgage and Housing Corporation (CMHC) and may actually provide you with useful insight in your search for housing. \n",
    "\n",
    "We are still working our way through [Sweigart (2020)](https://automatetheboringstuff.com/). A word of caution about this week's readings: though much of it is relevant, some of it goes too deep! I recommend looking thorugh these challenge questions to see what may be most relevant before undertaking the readings. For instance, we will not explore tuples and will only use a few of the list methods that he describes.\n",
    "\n",
    "**This week, we will achieve the following objectives:**\n",
    "- Make and manage a lists\n",
    "- Use a function to interpret list data\n",
    "- Assess list data quality\n",
    "- Make and manage a dictionary\n",
    "- Analyze where rent is growing fastest\n",
    "\n",
    "Weekly reading: Sweigart (2020) Ch. 4 and 5. "
   ]
  },
  {
   "cell_type": "markdown",
   "metadata": {},
   "source": [
    "# Case: Canada Mortgage and Housing Corporation\n",
    "The [Canada Mortgage and Housing Corporation (CMHC)](https://www.youtube.com/watch?v=vy19rwKFGYk#action=share) is a crown corporation with a mandate to assist housing for Canadians. Founded shortly after the second world war, its purpose was once to find housing for veterans. Now it provides programs for making mortgages more affordable and enforces policies designed to make rent more accessible. The CMHC also provides data on rental affordability, including [information on the average price of rent](https://www03.cmhc-schl.gc.ca/hmip-pimh/en#TableMapChart/0580/3/Halifax%20CMA) for various regions in Halifax through its information portal.\n",
    "\n",
    "Like most information portals, CMHC's is built to make the most important information accessible. This has the unfortunate consequence of also making it difficult to retrieve the data that you need. To retrieve rental price data, you must first select your appropriate data boundary and then select `Primary Rental Market` and `Average Rent ($)`. You can then download data in csv format, similar to the `2019_10_Halifax_Rental.csv` provided to you in Brightspace. Unfortunately, as of December 2020, CMHC does not seem to have data for 2020 (possibly due to COVID-19), which dramatically limits our ability to conduct intersting analysis.\n",
    "\n",
    "The data provided by CMHC is not formatted in a way that is conducive to data science. They provide data in rows and columns, complete with notes at the bottom of the file. It would be desirable to prepare the data in a way that is appropriate for analysis. If we were able to do it in Python, we could sort through hundreds of CSV spreadsheets, such as the rental data for October of each preceding year."
   ]
  },
  {
   "cell_type": "markdown",
   "metadata": {},
   "source": [
    "# Objective 1: Make and manage lists\n",
    "As you likely read in this week's readings, lists are very important for data scientists-- in fact, this is the week when our Python tasks will start to feel a bit more like data science, specifically! Lists are data structures which consist of a series of values organized in a systematic way. For example, if we wanted to list the rental values for the South End of Halifax, as given in the 2019 CMHC rental data, we could create a list such as `peninsula_south` below."
   ]
  },
  {
   "cell_type": "code",
   "execution_count": null,
   "metadata": {},
   "outputs": [],
   "source": [
    "# a list of rental prices\n",
    "\n",
    "peninsula_south = [888, 1203, 1656, 1949] # corresponds to line 4 of the 2019 data"
   ]
  },
  {
   "cell_type": "markdown",
   "metadata": {},
   "source": [
    "In some ways, lists are like the strings which we investigated the past few weeks. Lists are organized with indexes, similarly to the sequence of characters in strings. For example, if we wanted to retrieve a value for the first item in our list, we could retrieve it using the index. "
   ]
  },
  {
   "cell_type": "code",
   "execution_count": null,
   "metadata": {},
   "outputs": [],
   "source": [
    "peninsula_south[1] # retrieves the second value from the list"
   ]
  },
  {
   "cell_type": "markdown",
   "metadata": {},
   "source": [
    "Lists can also be subdivided using an index range, similarly to strings. For example, if we had the string `\"The data scientist solved the problem\"` and wanted to only retrieve the values `\"The\"`, we could specify the range `[0:3]`. Likewise, to retrieve values from a list, we can specify the range of items, such as with the code below."
   ]
  },
  {
   "cell_type": "code",
   "execution_count": null,
   "metadata": {},
   "outputs": [],
   "source": [
    "peninsula_south[0:3] # returns a subdivided list of only the first three values"
   ]
  },
  {
   "cell_type": "markdown",
   "metadata": {},
   "source": [
    "This said, lists can contain any type of data, such as strings, integers, floats ... even other lists! In this respect, they are very different. The code below demonstrates how lists can contain different types of values. Try printing the various list values by executing the cell."
   ]
  },
  {
   "cell_type": "code",
   "execution_count": null,
   "metadata": {},
   "outputs": [],
   "source": [
    "list_example = [\"Strings are cool!\", 42, 42.56, [\"Seriously, they are cool!\", \"You can even add lists within lists!\"]]\n",
    "\n",
    "for l in list_example:\n",
    "    print(l)"
   ]
  },
  {
   "cell_type": "markdown",
   "metadata": {},
   "source": [
    "### Looping through lists"
   ]
  },
  {
   "cell_type": "markdown",
   "metadata": {},
   "source": [
    "In practical terms, the combination of loops and lists is very powerful. In data science, we could store a series of values in a list and use loops to iterate through each item in the list. Interestingly, the `for` loop is particularly well suited for this task. Consider the code below, which iterates through each r (short notation for rental value) in `peninsula_south` and checks whether it is greater than 900, and if so, prints them."
   ]
  },
  {
   "cell_type": "code",
   "execution_count": null,
   "metadata": {},
   "outputs": [],
   "source": [
    "for r in peninsula_south: # iterates through each list value\n",
    "    if r > 900:\n",
    "        print(r)"
   ]
  },
  {
   "cell_type": "markdown",
   "metadata": {},
   "source": [
    "This creates some interesting dynamics for your code. As we saw last week, `while` loops will execute the code in the loop until the logical condition is met. If we wanted, we could write a while loop that iterates over a range of prespecified values. Consider the following code which accomplishes the same result as the for loop above."
   ]
  },
  {
   "cell_type": "code",
   "execution_count": null,
   "metadata": {},
   "outputs": [],
   "source": [
    "i = 0\n",
    "\n",
    "# iterates through the first four values\n",
    "while i < 4:\n",
    "    if peninsula_south[i] > 900:\n",
    "        print(peninsula_south[i])\n",
    "    i += 1"
   ]
  },
  {
   "cell_type": "markdown",
   "metadata": {},
   "source": [
    "There are some situations where you may wish to use a `while` loop instead of a for loop such as when you wish to specify specific list items (e.g. only values 1, and 3, etc.). However, this also comes with a disadvantage: if you iterate through values that do not exist, your loop will crash! The following loop attempts to iterate through five values, though only four exist. The result is a crash."
   ]
  },
  {
   "cell_type": "code",
   "execution_count": null,
   "metadata": {},
   "outputs": [],
   "source": [
    "i = 0\n",
    "\n",
    "# tries to iterate through the first five values. There are only four values, so it crashes.\n",
    "while i < 5:\n",
    "    if peninsula_south[i] > 900:\n",
    "        print(peninsula_south[i])\n",
    "    i += 1"
   ]
  },
  {
   "cell_type": "markdown",
   "metadata": {},
   "source": [
    "Fortunately, we have the handy `len()` function which can be used to discover the length of a list. Execute the following cell to retrieve the length of `peninsula_south`."
   ]
  },
  {
   "cell_type": "code",
   "execution_count": null,
   "metadata": {},
   "outputs": [],
   "source": [
    "len(peninsula_south) # returns the number of items in the list"
   ]
  },
  {
   "cell_type": "markdown",
   "metadata": {},
   "source": [
    "When combined with `while` loops, the `len()` function allows us to specify only the length of the list values. It is a best practice to use this function when creating `while` lists to prevent crashes."
   ]
  },
  {
   "cell_type": "code",
   "execution_count": null,
   "metadata": {},
   "outputs": [],
   "source": [
    "i = 0\n",
    "\n",
    "# returns all of the values between i and the final list item\n",
    "\n",
    "while i < len(peninsula_south):\n",
    "    print(peninsula_south[i])\n",
    "    i += 1"
   ]
  },
  {
   "cell_type": "markdown",
   "metadata": {},
   "source": [
    "### *Challenge Question 1 (2 points)*\n",
    "Many university interns in co-op positions in the Faculty of Management earn 16 per hour, which translates to approximately 2600 per month (gross). Financial advisors often recommend that people spend no more than 30\\% of their gross income on housing, which in the case of co-op students, would translate to 780 per month. It could be desirable to know which of the living options are below this threshold. \n",
    "\n",
    "Create a new list called `peninsula_north` which contains the values for the Bachelor, 1 Bedroom, 2 Bedroom and 3 Bedroom rental prices from the 2019 spreadsheet. Create a loop which checks each of the values and prints the value if it is less than 780."
   ]
  },
  {
   "cell_type": "code",
   "execution_count": null,
   "metadata": {},
   "outputs": [],
   "source": [
    "peninsula_north = [] # make this a list with the values from Peninsula North on line 5 of the 2019 data\n",
    "\n",
    "# [insert code here] create a loop which prints the values which are less than 800 here "
   ]
  },
  {
   "cell_type": "markdown",
   "metadata": {},
   "source": [
    "# Objective 2: Use a function to interpret list data\n",
    "Last week we started to use functions to interpret data. It is probably no surprise to you that functions are also extremely useful for managing structured data, such as that contained in lists. Though there are many possibilities, we wile explore two ways that functions are typically used with respect to list data."
   ]
  },
  {
   "cell_type": "markdown",
   "metadata": {},
   "source": [
    "### ...functions can be used when iterating though lists \n",
    "Functions are often used to simplify your code so that you don't have to retype the code over and over. You can create functions that are used for iterating through lists and performing some sort of logic on each list item. For example, check out `defRent()` below, which checks a rent value that is given as input and determines whether the rent is affordable."
   ]
  },
  {
   "cell_type": "code",
   "execution_count": null,
   "metadata": {},
   "outputs": [],
   "source": [
    "def checkRent(rent): # takes a rent value as input\n",
    "    if rent < 877: #checks whether the values is less than 877\n",
    "        print('This is affordable.')\n",
    "    else:\n",
    "        print('Not affordable.')"
   ]
  },
  {
   "cell_type": "markdown",
   "metadata": {},
   "source": [
    "We could use this function to create a simple while loop which checks the rent for each value in the list. The following code does this on the `peninsula_north` list."
   ]
  },
  {
   "cell_type": "code",
   "execution_count": null,
   "metadata": {},
   "outputs": [],
   "source": [
    "i = 0\n",
    "\n",
    "while i < len(peninsula_north): # iterate through each list value\n",
    "    checkRent(peninsula_north[i]) # execute the checkRent function\n",
    "    i += 1"
   ]
  },
  {
   "cell_type": "markdown",
   "metadata": {},
   "source": [
    "Alternatively, we could further simplify this using a `for` loop. Consider the following code which does the same thing on `peninsula_south`. Consider changing it to check if it also works with the north!"
   ]
  },
  {
   "cell_type": "code",
   "execution_count": null,
   "metadata": {},
   "outputs": [],
   "source": [
    "for r in peninsula_south: # loop through the values in peninsula_south\n",
    "    checkRent(r) # execute the function"
   ]
  },
  {
   "cell_type": "markdown",
   "metadata": {},
   "source": [
    "### ... functions can be used to process lists\n",
    "Additionally, functions can also take lists as input and process them and perform logic to them! For example, it could be desirable to determine whether the values of many lists meet our requirements. By taking a list as input, we could easily process both `peninsula_north` and `peninsula_south`. \n",
    "\n",
    "The `explainRent()` function below takes a `region_list` as an input and uses a loop to determine whether the values in the list are affordable."
   ]
  },
  {
   "cell_type": "code",
   "execution_count": null,
   "metadata": {},
   "outputs": [],
   "source": [
    "i = 0\n",
    "\n",
    "def explainRent(region_list): # takes a list as input\n",
    "    i = 0\n",
    "    while i < len(region_list): # iterate through each value in the list until it reaches the length of the list\n",
    "        if i == 0:\n",
    "            print (\"A Bachelor apartment in this region costs \" + str(region_list[i]) + \" on average\")\n",
    "        else:\n",
    "            print(\"A \" + str(i) + \" bedroom apartment in this region costs \" + str(region_list[i]) + \" on average\")\n",
    "        i += 1"
   ]
  },
  {
   "cell_type": "markdown",
   "metadata": {},
   "source": [
    "We can now use the function to crunch through the `peninsula_south` list in one line! Consider modifying the code to try it for the North End as well."
   ]
  },
  {
   "cell_type": "code",
   "execution_count": null,
   "metadata": {},
   "outputs": [],
   "source": [
    "explainRent(peninsula_south) # execute the function"
   ]
  },
  {
   "cell_type": "markdown",
   "metadata": {},
   "source": [
    "Finally, functions can take multiple inputs, in addition to lists. For example, rather than predefining the value that we would like to check, we could take the value as an input, giving us more flexibility. The `assessRetn()` function below similarly takes a `region_list` but also takes in a `threshold` which it uses to compare. This is very handy for calculating whether rent is affordable for various income levels!"
   ]
  },
  {
   "cell_type": "code",
   "execution_count": null,
   "metadata": {},
   "outputs": [],
   "source": [
    "def assessRent(region_list, threshold): # takes two inputs\n",
    "    i = 0\n",
    "    while i < len(region_list): # same as before, keeps running if i is less than the length of the region lsit\n",
    "        if region_list[i] < threshold: # checks whether the value is less than the threshold\n",
    "            if i == 0:\n",
    "                print (\"A Bachelor apartment in this region costs \" + str(region_list[i]) + \" on average, which is affordable\")\n",
    "            else:\n",
    "                print(\"A \" + str(i) + \" bedroom apartment in this region costs \" + str(region_list[i]) + \" on average, which is affordable\")\n",
    "        i += 1"
   ]
  },
  {
   "cell_type": "markdown",
   "metadata": {},
   "source": [
    "Try executing the function below with different income levels (e.g. 1200). You will see how the output changes."
   ]
  },
  {
   "cell_type": "code",
   "execution_count": null,
   "metadata": {},
   "outputs": [],
   "source": [
    "assessRent(peninsula_north, 800)"
   ]
  },
  {
   "cell_type": "markdown",
   "metadata": {},
   "source": [
    "### *Challenge Question 2 (2 points)*\n",
    "The `assessRent()` function above is very handy. The only limitation is that it produces a generic response. Modify the code to do the following: \n",
    "\n",
    "* Take a third input called `region_name`, which is a string\n",
    "* Append the `region_name` string to your print statement to give a context relevant response\n",
    "* Two test scenarios are provided to test your code"
   ]
  },
  {
   "cell_type": "code",
   "execution_count": null,
   "metadata": {},
   "outputs": [],
   "source": [
    "def assessRent(region_list, threshold): # modify this to take the third input\n",
    "    i = 0\n",
    "    while i < len(region_list): \n",
    "        if region_list[i] < threshold: \n",
    "            if i == 0: # modify the string response below\n",
    "                print (\"A Bachelor apartment in this region costs \" + str(region_list[i]) + \" on average, which is affordable\")\n",
    "            else: # modify the string response below\n",
    "                print(\"A \" + str(i) + \" bedroom apartment in this region costs \" + str(region_list[i]) + \" on average, which is affordable\")\n",
    "        i += 1"
   ]
  },
  {
   "cell_type": "markdown",
   "metadata": {},
   "source": [
    "#### Sample Test 1\n",
    "Should return `\"A Bachelor apartment in this region costs 754 on average, which is affordable\"`"
   ]
  },
  {
   "cell_type": "code",
   "execution_count": null,
   "metadata": {},
   "outputs": [],
   "source": [
    "assessRent(peninsula_north, 800, \"North End\")"
   ]
  },
  {
   "cell_type": "markdown",
   "metadata": {},
   "source": [
    "#### Sample Test 2\n",
    "Should return: \n",
    "\n",
    "`\"A Bachelor apartment in this region costs 888 on average, which is affordable\"`\n",
    "\n",
    "`\"A 1 bedroom apartment in this region costs 1203 on average, which is affordable\"`"
   ]
  },
  {
   "cell_type": "code",
   "execution_count": null,
   "metadata": {},
   "outputs": [],
   "source": [
    "assessRent(peninsula_south, 1500, \"South End\")"
   ]
  },
  {
   "cell_type": "markdown",
   "metadata": {},
   "source": [
    "# Objective 3: Assess list data quality\n",
    "So far, we have used relatively clean data in our analysis. However, the majority of data that you will encounter starting next week will be... less than idea. If we observe the `Halifax_Rental.csv` files, it will become clear that the CSV rows actually consist of data assessment characters following each value. Our data should actually look more similarly to that provided in `mainland_south`."
   ]
  },
  {
   "cell_type": "code",
   "execution_count": null,
   "metadata": {},
   "outputs": [],
   "source": [
    "mainland_south = [642,\"b\",696,\"a\",838,\"a\",897,\"a\"] #corresponds to line 6 of the 2019 rental data"
   ]
  },
  {
   "cell_type": "markdown",
   "metadata": {},
   "source": [
    "Fortunately, list data types come with a few handy methods for solving data cleaning problems. Sweigart's Chapter 4 goes into a lot of detail (perhaps *too* much detail this time) about handy list methods, which you should read through. We will highlight a few of them here however.\n",
    "\n",
    "The index method will tell you the *first* instance of a specified value in a list. This can be very handy for figuring out where the value sits on the list so that we can modify or remove it. "
   ]
  },
  {
   "cell_type": "code",
   "execution_count": null,
   "metadata": {},
   "outputs": [],
   "source": [
    "mainland_south.index(\"b\")"
   ]
  },
  {
   "cell_type": "markdown",
   "metadata": {},
   "source": [
    "The `del` method is used to removing list values. Now that we know that `mainland_south[1]` is an inappropriate character, we can remove it using `del`. If we would like to use this to remove the character `\"b\"` we could do something like the following."
   ]
  },
  {
   "cell_type": "code",
   "execution_count": null,
   "metadata": {},
   "outputs": [],
   "source": [
    "del mainland_south[1]\n",
    "\n",
    "mainland_south"
   ]
  },
  {
   "cell_type": "markdown",
   "metadata": {},
   "source": [
    "Alternatively, we could use the `remove` method to clean out particular values. The code below removes the first instance of the letter `a`. However, it only removes it once, so we would have to run this 3 times to get the list the way that we would like. There are more efficient ways to do this, though that may be a story for another day. "
   ]
  },
  {
   "cell_type": "code",
   "execution_count": null,
   "metadata": {},
   "outputs": [],
   "source": [
    "# run me 3 times to clear the bad data!\n",
    "\n",
    "mainland_south.remove(\"a\")\n",
    "mainland_south"
   ]
  },
  {
   "cell_type": "markdown",
   "metadata": {},
   "source": [
    "Finally, it is helpful to insert values into a list. The most common method used for this task is `append` which adds the value to the end of the list. The following code appends the total average value for `Mainland South` to the list. Pretty handy!"
   ]
  },
  {
   "cell_type": "code",
   "execution_count": null,
   "metadata": {},
   "outputs": [],
   "source": [
    "mainland_south.append(779)\n",
    "mainland_south"
   ]
  },
  {
   "cell_type": "markdown",
   "metadata": {},
   "source": [
    "Alternatively, the `insert` function can be used to accomplish this task. You can read more about it in Sweigart Chapter 4."
   ]
  },
  {
   "cell_type": "markdown",
   "metadata": {},
   "source": [
    "### *Challenge Question 3 (2 points)*\n",
    "The `sackville` list below contains a value of `\"**\"`. In the cell below, create code that changes this value to the string `\"Insufficient data\"`. _Note: Though you could simply re-write this list, such answers will not be accepted. Your code must remove, insert or change the value in the list below!_ "
   ]
  },
  {
   "cell_type": "code",
   "execution_count": null,
   "metadata": {},
   "outputs": [],
   "source": [
    "sackville = [\"**\", 931, 1098, 1288, 1101]\n",
    "\n",
    "# [insert code here!]"
   ]
  },
  {
   "cell_type": "markdown",
   "metadata": {},
   "source": [
    "#### Sample Test 1\n",
    "Should return `['Insufficient data', 931, 1098, 1288, 1101]`."
   ]
  },
  {
   "cell_type": "code",
   "execution_count": null,
   "metadata": {},
   "outputs": [],
   "source": [
    "sackville"
   ]
  },
  {
   "cell_type": "markdown",
   "metadata": {},
   "source": [
    "# Objective 4: Make and manage a dictionary\n",
    "In addition to lists, there is a second data structure that is commonly used in Python: dictionaries. Unlike lists which use the list order to determine the sequence of values, dictionaries use a key-value pair structure. There are no \"first\" items in a dictionary; instead, all of the values stored are mapped with keys.\n",
    "\n",
    "Sometimes it is better to simply see things in action. The data for `peninsula_south` have been re-written into a dictionary, this time with keys (i.e. `Bach`, `1Bdr`) mapping to their respective values (i.e. `851`, `1093`). Try running the code below to set up your dictionary."
   ]
  },
  {
   "cell_type": "code",
   "execution_count": null,
   "metadata": {},
   "outputs": [],
   "source": [
    "peninsula_south = {'Bach': 888, '1Bdr': 1203, '2Bdr': 1656, '3Bdr': 1949}"
   ]
  },
  {
   "cell_type": "markdown",
   "metadata": {},
   "source": [
    "To retrieve a dictionary value, we simply need to specify the key that we are looking for! The line below retrieves the value for bachelor apartments. Consider modifying it to retrieve 1 bedrooms."
   ]
  },
  {
   "cell_type": "code",
   "execution_count": null,
   "metadata": {},
   "outputs": [],
   "source": [
    "peninsula_south['Bach']"
   ]
  },
  {
   "cell_type": "code",
   "execution_count": null,
   "metadata": {},
   "outputs": [],
   "source": [
    "keys = ['Bach','1Bdr','2Bdr','3Bdr']\n",
    "\n",
    "for i in keys:\n",
    "    print(peninsula_south[i])"
   ]
  },
  {
   "cell_type": "markdown",
   "metadata": {},
   "source": [
    "Similarly to lists, dictionaries can be taken as inputs to functions or can be iterated through using key-value pairs."
   ]
  },
  {
   "cell_type": "markdown",
   "metadata": {},
   "source": [
    "### *Challenge Question 4 (2 points)*\n",
    "Create function called `assessRent()` which does the following:\n",
    "* Takes three inputs: \n",
    "    * region_dictionary (dictionary)\n",
    "    * key (string)\n",
    "    * threshold (integer)\n",
    "* Assesses whether the inputted key-dictionary pair is less than threshold\n",
    "* Returns the value, and whether the apartment was affordable"
   ]
  },
  {
   "cell_type": "code",
   "execution_count": null,
   "metadata": {},
   "outputs": [],
   "source": [
    "assessRent(region_dictionary, key, treshold): # the start of the function\n",
    "    #[insert code here]"
   ]
  },
  {
   "cell_type": "markdown",
   "metadata": {},
   "source": [
    "#### Sample Test 1\n",
    "Should return `\"1Bdr in this region costs 951 and is unaffordable for this person.\"`."
   ]
  },
  {
   "cell_type": "code",
   "execution_count": null,
   "metadata": {},
   "outputs": [],
   "source": [
    "peninsula_north = {'Bach': 754, '1Bdr': 951, '2Bdr': 1189, '3Bdr': 1408} # values extracted from the spreadsheet\n",
    "\n",
    "assessRent(peninsula_north, '1Bdr', 600)"
   ]
  },
  {
   "cell_type": "markdown",
   "metadata": {},
   "source": [
    "#### Sample Test 2\n",
    "Should return `\"2Bdr in this region costs 1189 and is affordable for this person.\"`"
   ]
  },
  {
   "cell_type": "code",
   "execution_count": null,
   "metadata": {},
   "outputs": [],
   "source": [
    "peninsula_north = {'Bach': 754, '1Bdr': 951, '2Bdr': 1189, '3Bdr': 1408} # values extracted from the spreadsheet\n",
    "\n",
    "assessRent(peninsula_north, '2Bdr', 2000)"
   ]
  },
  {
   "cell_type": "markdown",
   "metadata": {},
   "source": [
    "# Objective 5: Analyze where rent is growing fastest\n",
    "Perhaps the most powerful feature of the dictionary data structure is that they can be nested within itself. For those of you who took INFO 5590, you will remember the structure of JSON (\"JavaScript Object Notation\") data, which is the backbone of modern internet data exchange. Python dictionaries are structured similarly to JSON, and are designed to allow users to next dictionaries within other dictionaries. For example, we could store both the values for `Peninsula South` and `Peninsula North` inside of a larger `halifax` dictionary using the key-value architecture."
   ]
  },
  {
   "cell_type": "code",
   "execution_count": null,
   "metadata": {},
   "outputs": [],
   "source": [
    "# 2019 data\n",
    "\n",
    "halifax = {\n",
    "    'Peninsula South' : {'Bach': 888, '1Bdr': 1203, '2Bdr': 1656, '3Bdr': 1949},\n",
    "    'Peninsula North' : {'Bach': 754, '1Bdr': 951, '2Bdr': 1189, '3Bdr': 1408}\n",
    "}"
   ]
  },
  {
   "cell_type": "markdown",
   "metadata": {},
   "source": [
    "This allows us to navigate across many data values. In Python, you can navigate between nested keys by simply writing the nested key adjacent to the key from the first level. The code below will give you the value for the Bachelor apartments in the South End, though you can also use it to retrieve values such as 1 Bedrooms in the North end if you would like. Give it a try!"
   ]
  },
  {
   "cell_type": "code",
   "execution_count": null,
   "metadata": {},
   "outputs": [],
   "source": [
    "halifax['Peninsula South']['Bach']"
   ]
  },
  {
   "cell_type": "markdown",
   "metadata": {},
   "source": [
    "If we wanted to, we could further expand our dictionary to encompass years. For example, the following dictionary contains 3 levels: years, locations, and apartment types. "
   ]
  },
  {
   "cell_type": "code",
   "execution_count": null,
   "metadata": {},
   "outputs": [],
   "source": [
    "# corresponds to the 2018 and 2019 data from two CSV files\n",
    "\n",
    "halifax_rentals = {\n",
    "    '2018': {\n",
    "        'Peninsula South': {'Bach': 872, '1Bdr': 1137, '2Bdr': 1608, '3Bdr': 1906},\n",
    "        'Peninsula North' : {'Bach': 782, '1Bdr': 947, '2Bdr': 1181, '3Bdr': 1362},\n",
    "        'Mainland South' : {'Bach': 829, '1Bdr': 694, '2Bdr': 957, '3Bdr': 1035},\n",
    "        'Mainland North' : {'Bach': 756, '1Bdr': 876, '2Bdr': 1147, '3Bdr': 1360},\n",
    "    },\n",
    "    '2019': {\n",
    "        'Peninsula South': {'Bach': 888, '1Bdr': 1203, '2Bdr': 1656, '3Bdr': 1949},\n",
    "        'Peninsula North' : {'Bach': 754, '1Bdr': 951, '2Bdr': 1189, '3Bdr': 1408},\n",
    "        'Mainland South' : {'Bach': 642, '1Bdr': 696, '2Bdr': 838, '3Bdr': 897},\n",
    "        'Mainland North' : {'Bach': 776, '1Bdr': 923, '2Bdr': 1186, '3Bdr': 1405},\n",
    "    }\n",
    "}"
   ]
  },
  {
   "cell_type": "markdown",
   "metadata": {},
   "source": [
    "We can also navigate through this dictionary using the three levels of keys. The following code gives us the data about 1 bedroom apartment rentals in the north end in 2018.   "
   ]
  },
  {
   "cell_type": "code",
   "execution_count": null,
   "metadata": {},
   "outputs": [],
   "source": [
    "halifax_rentals['2018']['Mainland North']['1Bdr']"
   ]
  },
  {
   "cell_type": "markdown",
   "metadata": {},
   "source": [
    "Similarly, if we wished to compare multiple years, we could simply print the values from multiple dictionary entries. The example below prints the 1 Bedroom apartment values in the north end from 2018 and 2019. \n",
    "\n",
    "_Note, this is actually one line of code that is broken apart for readability. You can break apart strings into multiple lines in Python_. "
   ]
  },
  {
   "cell_type": "code",
   "execution_count": null,
   "metadata": {},
   "outputs": [],
   "source": [
    "print(\"Rentals on the mainland north region were \" \n",
    "      + str(halifax_rentals['2018']['Mainland North']['1Bdr']) \n",
    "      + \" in 2018 and \" + str(halifax_rentals['2019']['Mainland North']['1Bdr']) + \" in 2019.\")"
   ]
  },
  {
   "cell_type": "markdown",
   "metadata": {},
   "source": [
    "### *Challenge Question 5 (2 points)*\n",
    "Create a function called compareRent which compares the growth of rent for a particular region and apartment pairing between two years. The function should do the following:\n",
    "* Take five inputs:\n",
    "    * data (dictionary)\n",
    "    * region (string)\n",
    "    * apartment (string)\n",
    "    * year1 (string)\n",
    "    * year2 (string)\n",
    "* It should calculate the percent growth (year 2's value minus year 1's value divide by year 2's value)\n",
    "* It should convert this calculated value into a percentage (by multiplying it by 100)\n",
    "* The percentage should be rounded to two spaces\n",
    "* The function should return a string that specifies the apartment type, region, and years\n",
    "\n",
    "Pro Tip: When this function is done, you can use it to analyze apartments in regions that interset you!"
   ]
  },
  {
   "cell_type": "code",
   "execution_count": null,
   "metadata": {},
   "outputs": [],
   "source": [
    "halifax_rentals = {\n",
    "    '2018': {\n",
    "        'Peninsula South': {'Bach': 872, '1Bdr': 1137, '2Bdr': 1608, '3Bdr': 1906},\n",
    "        'Peninsula North' : {'Bach': 782, '1Bdr': 947, '2Bdr': 1181, '3Bdr': 1362},\n",
    "        'Mainland South' : {'Bach': 829, '1Bdr': 694, '2Bdr': 957, '3Bdr': 1035},\n",
    "        'Mainland North' : {'Bach': 756, '1Bdr': 876, '2Bdr': 1147, '3Bdr': 1360},\n",
    "    },\n",
    "    '2019': {\n",
    "        'Peninsula South': {'Bach': 888, '1Bdr': 1203, '2Bdr': 1656, '3Bdr': 1949},\n",
    "        'Peninsula North' : {'Bach': 754, '1Bdr': 951, '2Bdr': 1189, '3Bdr': 1408},\n",
    "        'Mainland South' : {'Bach': 642, '1Bdr': 696, '2Bdr': 838, '3Bdr': 897},\n",
    "        'Mainland North' : {'Bach': 776, '1Bdr': 923, '2Bdr': 1186, '3Bdr': 1405},\n",
    "    }\n",
    "}\n",
    "\n",
    "#def compareRent(data, region, apartment, year1, year2):\n",
    "    #[insert code here]"
   ]
  },
  {
   "cell_type": "markdown",
   "metadata": {},
   "source": [
    "#### Sample Test 1\n",
    "Should return `\"Rent for 1Bdr in Mainland South grew by 0.29% between 2018 and 2019\"`"
   ]
  },
  {
   "cell_type": "code",
   "execution_count": null,
   "metadata": {},
   "outputs": [],
   "source": [
    "compareRent(halifax_rentals, 'Mainland South', '1Bdr', '2018', '2019')"
   ]
  },
  {
   "cell_type": "markdown",
   "metadata": {},
   "source": [
    "#### Sample Test 2\n",
    "Should return `\"Rent for 2Bdr in Peninsula South grew by 2.99% between 2018 and 2019\"`"
   ]
  },
  {
   "cell_type": "code",
   "execution_count": null,
   "metadata": {},
   "outputs": [],
   "source": [
    "compareRent(halifax_rentals, 'Peninsula South', '2Bdr', '2018', '2019')"
   ]
  },
  {
   "cell_type": "markdown",
   "metadata": {},
   "source": [
    "# References\n",
    "Canada Mortgage and Housing Corporation (19 January 2020). Housing Market Information Portal. Retrieved from: https://www03.cmhc-schl.gc.ca/hmip-pimh/en#TableMapChart/0580/3/Halifax%20CMA"
   ]
  }
 ],
 "metadata": {
  "kernelspec": {
   "display_name": "Python 3",
   "language": "python",
   "name": "python3"
  },
  "language_info": {
   "codemirror_mode": {
    "name": "ipython",
    "version": 3
   },
   "file_extension": ".py",
   "mimetype": "text/x-python",
   "name": "python",
   "nbconvert_exporter": "python",
   "pygments_lexer": "ipython3",
   "version": "3.7.9"
  }
 },
 "nbformat": 4,
 "nbformat_minor": 2
}
